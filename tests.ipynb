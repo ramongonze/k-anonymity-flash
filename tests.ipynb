{
 "cells": [
  {
   "cell_type": "code",
   "execution_count": 1,
   "metadata": {},
   "outputs": [],
   "source": [
    "import pandas as pd\n",
    "import numpy as np\n",
    "import dataset\n",
    "import lattice\n",
    "import flash"
   ]
  },
  {
   "cell_type": "markdown",
   "metadata": {},
   "source": [
    "---\n",
    "# Examples in paper"
   ]
  },
  {
   "cell_type": "code",
   "execution_count": 2,
   "metadata": {},
   "outputs": [],
   "source": [
    "columns1 = ['Age', 'Gender', 'ZipCode']\n",
    "df1 = pd.DataFrame([[34, 'male', 81667], \\\n",
    "                    [45, 'female', 81675], \\\n",
    "                    [66, 'male', 81925], \\\n",
    "                    [70, 'female', 81931], \\\n",
    "                    [34, 'female', 81931], \\\n",
    "                    [70, 'male', 81931], \\\n",
    "                    [45, 'male', 81931]], columns=columns1)\n"
   ]
  },
  {
   "cell_type": "code",
   "execution_count": 3,
   "metadata": {},
   "outputs": [],
   "source": [
    "# QID is all the attributes\n",
    "D1 = dataset.Dataset(df1)"
   ]
  },
  {
   "cell_type": "code",
   "execution_count": 4,
   "metadata": {},
   "outputs": [],
   "source": [
    "# Hierarchies for Age\n",
    "h1, d1 = D1.lat.createNumericalHierarchies(0, 3)\n",
    "# D1.lat.addNewHierarchy(0, h1, d1, numerical=True)\n",
    "\n",
    "# Hierarchies for Gender\n",
    "\n",
    "# Hierarchies for ZipCode\n"
   ]
  },
  {
   "cell_type": "code",
   "execution_count": 5,
   "metadata": {},
   "outputs": [
    {
     "data": {
      "text/plain": [
       "array([[5, 6],\n",
       "       [5, 6],\n",
       "       [5, 6],\n",
       "       [5, 6]])"
      ]
     },
     "execution_count": 5,
     "metadata": {},
     "output_type": "execute_result"
    }
   ],
   "source": [
    "h1"
   ]
  },
  {
   "cell_type": "code",
   "execution_count": 6,
   "metadata": {},
   "outputs": [
    {
     "data": {
      "text/plain": [
       "['[34.00, 52.00)', '[52.00, 70.00]', '*']"
      ]
     },
     "execution_count": 6,
     "metadata": {},
     "output_type": "execute_result"
    }
   ],
   "source": [
    "d1"
   ]
  },
  {
   "cell_type": "code",
   "execution_count": null,
   "metadata": {},
   "outputs": [],
   "source": [
    "D1.lat.hier[0]"
   ]
  },
  {
   "cell_type": "code",
   "execution_count": null,
   "metadata": {},
   "outputs": [],
   "source": [
    "D1.lat.dic[0]"
   ]
  },
  {
   "cell_type": "markdown",
   "metadata": {},
   "source": [
    "---\n",
    "# Adults dataset"
   ]
  },
  {
   "cell_type": "code",
   "execution_count": null,
   "metadata": {},
   "outputs": [],
   "source": [
    "columns = ['age', 'workclass', 'fnlwgt', 'education', 'education-num', \\\n",
    "           'marital-status', 'occupation', 'relationship', 'race', 'sex', \\\n",
    "           'capital-gain', 'capital-loss', 'hours-per-week', 'native-country', '<=50K']\n",
    "df = pd.read_csv('adult/adult.data', index_col=False, names=columns)"
   ]
  },
  {
   "cell_type": "code",
   "execution_count": null,
   "metadata": {},
   "outputs": [],
   "source": [
    "qid = ['age', 'workclass', 'education', 'race', 'sex']\n",
    "D = dataset.Dataset(df[qid])"
   ]
  },
  {
   "cell_type": "code",
   "execution_count": null,
   "metadata": {},
   "outputs": [],
   "source": [
    "# Hierarchies for age\n",
    "h, d = lattice.Lattice.createNumericalHierarchies(min(D.data[:,0]), max(D.data[:,0]),4)\n",
    "D.lat.addNewHierarchy(0,h,d,numerical=True)\n",
    "\n",
    "# Hierarchies for workclass\n",
    "D.lat.addNewHierarchy(1, dict([(i,9) for i in np.arange(9)]), ['*'])\n",
    "\n",
    "# Hierarchies for education\n",
    "D.lat.addNewHierarchy(2, dict([(i,9) for i in np.arange(16)]), ['*'])\n",
    "\n",
    "# Hierarchies for race\n",
    "D.lat.addNewHierarchy(3, {0:5, 1:5, 2:5, 3:5, 4:5}, ['*'])\n",
    "\n",
    "# Hierarchies for sex\n",
    "D.lat.addNewHierarchy(4,{0:2, 1:2},['*'])"
   ]
  },
  {
   "cell_type": "code",
   "execution_count": null,
   "metadata": {},
   "outputs": [],
   "source": [
    "flash.flash(D, df.shape[0])"
   ]
  }
 ],
 "metadata": {
  "kernelspec": {
   "display_name": "Python 3",
   "language": "python",
   "name": "python3"
  },
  "language_info": {
   "codemirror_mode": {
    "name": "ipython",
    "version": 3
   },
   "file_extension": ".py",
   "mimetype": "text/x-python",
   "name": "python",
   "nbconvert_exporter": "python",
   "pygments_lexer": "ipython3",
   "version": "3.7.1"
  }
 },
 "nbformat": 4,
 "nbformat_minor": 2
}
