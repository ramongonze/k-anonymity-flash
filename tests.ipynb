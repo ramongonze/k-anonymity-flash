{
 "cells": [
  {
   "cell_type": "code",
   "execution_count": 1,
   "metadata": {},
   "outputs": [],
   "source": [
    "import pandas as pd\n",
    "import numpy as np\n",
    "import dataset\n",
    "import lattice\n",
    "import flash"
   ]
  },
  {
   "cell_type": "markdown",
   "metadata": {},
   "source": [
    "---\n",
    "# Examples in paper"
   ]
  },
  {
   "cell_type": "code",
   "execution_count": 2,
   "metadata": {},
   "outputs": [],
   "source": [
    "columns1 = ['Age', 'Gender', 'ZipCode']\n",
    "df1 = pd.DataFrame([[34, 'male', 81667], \\\n",
    "                    [45, 'female', 81675], \\\n",
    "                    [66, 'male', 81925], \\\n",
    "                    [70, 'female', 81931], \\\n",
    "                    [34, 'female', 81931], \\\n",
    "                    [70, 'male', 81931], \\\n",
    "                    [45, 'male', 81931]], columns=columns1)\n"
   ]
  },
  {
   "cell_type": "code",
   "execution_count": 3,
   "metadata": {},
   "outputs": [],
   "source": [
    "# QID is all the attributes\n",
    "D1 = dataset.Dataset(df1)"
   ]
  },
  {
   "cell_type": "code",
   "execution_count": 4,
   "metadata": {},
   "outputs": [],
   "source": [
    "# Hierarchies for Age\n",
    "h1, d1 = D1.lat.createNumericalHierarchies(0, 3)\n",
    "D1.lat.addNewHierarchy(0, h1, d1, numerical=True)\n",
    "\n",
    "# Hierarchies for Gender\n",
    "D1.lat.addNewHierarchy(1, {0:2, 1:2}, ['*'])\n",
    "\n",
    "# Hierarchies for ZipCode\n",
    "D1.lat.addNewHierarchy(2, {0:4, 1:5, 2:6, 3:7}, ['8166*', '8167*', '8192*', '8193*'])\n",
    "D1.lat.addNewHierarchy(2, {4:8, 5:8, 6:9, 7:9}, ['816**', '819**'])\n",
    "D1.lat.addNewHierarchy(2, {8:10, 9:10}, ['81***'])\n",
    "D1.lat.addNewHierarchy(2, {10:11}, ['8****'])\n",
    "D1.lat.addNewHierarchy(2, {11:12}, ['*'])"
   ]
  },
  {
   "cell_type": "code",
   "execution_count": 5,
   "metadata": {},
   "outputs": [
    {
     "data": {
      "text/plain": [
       "[2, 1, 5]"
      ]
     },
     "execution_count": 5,
     "metadata": {},
     "output_type": "execute_result"
    }
   ],
   "source": [
    "D1.lat.hierarchies"
   ]
  },
  {
   "cell_type": "code",
   "execution_count": 6,
   "metadata": {},
   "outputs": [
    {
     "name": "stdout",
     "output_type": "stream",
     "text": [
      "Local optimum nodes: [(2, 0, 5), (1, 1, 5), (2, 0, 3), (2, 1, 2), (1, 1, 2)]\n"
     ]
    }
   ],
   "source": [
    "localOptimuns1 = flash.flash(D1, 2)\n",
    "print('Local optimum nodes: ' + str(localOptimuns1))"
   ]
  },
  {
   "cell_type": "code",
   "execution_count": 7,
   "metadata": {},
   "outputs": [
    {
     "data": {
      "text/html": [
       "<div>\n",
       "<style scoped>\n",
       "    .dataframe tbody tr th:only-of-type {\n",
       "        vertical-align: middle;\n",
       "    }\n",
       "\n",
       "    .dataframe tbody tr th {\n",
       "        vertical-align: top;\n",
       "    }\n",
       "\n",
       "    .dataframe thead th {\n",
       "        text-align: right;\n",
       "    }\n",
       "</style>\n",
       "<table border=\"1\" class=\"dataframe\">\n",
       "  <thead>\n",
       "    <tr style=\"text-align: right;\">\n",
       "      <th></th>\n",
       "      <th>Age</th>\n",
       "      <th>Gender</th>\n",
       "      <th>ZipCode</th>\n",
       "    </tr>\n",
       "  </thead>\n",
       "  <tbody>\n",
       "    <tr>\n",
       "      <td>0</td>\n",
       "      <td>[34.00, 52.00)</td>\n",
       "      <td>*</td>\n",
       "      <td>816**</td>\n",
       "    </tr>\n",
       "    <tr>\n",
       "      <td>1</td>\n",
       "      <td>[34.00, 52.00)</td>\n",
       "      <td>*</td>\n",
       "      <td>816**</td>\n",
       "    </tr>\n",
       "    <tr>\n",
       "      <td>2</td>\n",
       "      <td>[52.00, 70.00]</td>\n",
       "      <td>*</td>\n",
       "      <td>819**</td>\n",
       "    </tr>\n",
       "    <tr>\n",
       "      <td>3</td>\n",
       "      <td>[52.00, 70.00]</td>\n",
       "      <td>*</td>\n",
       "      <td>819**</td>\n",
       "    </tr>\n",
       "    <tr>\n",
       "      <td>4</td>\n",
       "      <td>[34.00, 52.00)</td>\n",
       "      <td>*</td>\n",
       "      <td>819**</td>\n",
       "    </tr>\n",
       "    <tr>\n",
       "      <td>5</td>\n",
       "      <td>[52.00, 70.00]</td>\n",
       "      <td>*</td>\n",
       "      <td>819**</td>\n",
       "    </tr>\n",
       "    <tr>\n",
       "      <td>6</td>\n",
       "      <td>[34.00, 52.00)</td>\n",
       "      <td>*</td>\n",
       "      <td>819**</td>\n",
       "    </tr>\n",
       "  </tbody>\n",
       "</table>\n",
       "</div>"
      ],
      "text/plain": [
       "              Age Gender ZipCode\n",
       "0  [34.00, 52.00)      *   816**\n",
       "1  [34.00, 52.00)      *   816**\n",
       "2  [52.00, 70.00]      *   819**\n",
       "3  [52.00, 70.00]      *   819**\n",
       "4  [34.00, 52.00)      *   819**\n",
       "5  [52.00, 70.00]      *   819**\n",
       "6  [34.00, 52.00)      *   819**"
      ]
     },
     "execution_count": 7,
     "metadata": {},
     "output_type": "execute_result"
    }
   ],
   "source": [
    "genDF1 = D1.generalizeDataset((1,1,2))\n",
    "genDF1"
   ]
  },
  {
   "cell_type": "markdown",
   "metadata": {},
   "source": [
    "---\n",
    "# Adults dataset"
   ]
  },
  {
   "cell_type": "code",
   "execution_count": 8,
   "metadata": {},
   "outputs": [],
   "source": [
    "columns2 = ['age', 'workclass', 'fnlwgt', 'education', 'education-num', \\\n",
    "           'marital-status', 'occupation', 'relationship', 'race', 'sex', \\\n",
    "           'capital-gain', 'capital-loss', 'hours-per-week', 'native-country', '<=50K']\n",
    "df2 = pd.read_csv('adult/adult.data', index_col=False, names=columns2)"
   ]
  },
  {
   "cell_type": "code",
   "execution_count": 9,
   "metadata": {},
   "outputs": [],
   "source": [
    "qid2 = ['age', 'workclass', 'education', 'race', 'sex']\n",
    "D2 = dataset.Dataset(df2[qid2])"
   ]
  },
  {
   "cell_type": "code",
   "execution_count": 10,
   "metadata": {},
   "outputs": [],
   "source": [
    "# Hierarchies for age\n",
    "h2, d2 = D2.lat.createNumericalHierarchies(0, 4)\n",
    "D2.lat.addNewHierarchy(0,h2,d2,numerical=True)\n",
    "\n",
    "# Hierarchies for workclass\n",
    "D2.lat.addNewHierarchy(1, dict([(i,9) for i in np.arange(9)]), ['*'])\n",
    "\n",
    "# Hierarchies for education\n",
    "D2.lat.addNewHierarchy(2, dict([(i,9) for i in np.arange(16)]), ['*'])\n",
    "\n",
    "# Hierarchies for race\n",
    "D2.lat.addNewHierarchy(3, {0:5, 1:5, 2:5, 3:5, 4:5}, ['*'])\n",
    "\n",
    "# Hierarchies for sex\n",
    "D2.lat.addNewHierarchy(4,{0:2, 1:2},['*'])"
   ]
  },
  {
   "cell_type": "code",
   "execution_count": 11,
   "metadata": {},
   "outputs": [
    {
     "data": {
      "text/plain": [
       "[3, 1, 1, 1, 1]"
      ]
     },
     "execution_count": 11,
     "metadata": {},
     "output_type": "execute_result"
    }
   ],
   "source": [
    "D2.lat.hierarchies"
   ]
  },
  {
   "cell_type": "code",
   "execution_count": 12,
   "metadata": {},
   "outputs": [
    {
     "name": "stdout",
     "output_type": "stream",
     "text": [
      "Local optimum nodes: [(3, 1, 0, 1, 1), (3, 1, 0, 0, 1), (3, 0, 1, 1, 1), (3, 1, 0, 1, 0), (3, 1, 1, 0, 0), (2, 1, 0, 1, 1), (2, 1, 1, 0, 1), (2, 1, 0, 1, 0), (1, 1, 0, 1, 1), (1, 1, 1, 1, 0), (2, 0, 1, 1, 0), (2, 1, 1, 0, 0), (1, 1, 1, 0, 1)]\n"
     ]
    }
   ],
   "source": [
    "localOptimuns2 = flash.flash(D2, 2)\n",
    "print('Local optimum nodes: ' + str(localOptimuns2))"
   ]
  },
  {
   "cell_type": "code",
   "execution_count": 13,
   "metadata": {},
   "outputs": [
    {
     "data": {
      "text/html": [
       "<div>\n",
       "<style scoped>\n",
       "    .dataframe tbody tr th:only-of-type {\n",
       "        vertical-align: middle;\n",
       "    }\n",
       "\n",
       "    .dataframe tbody tr th {\n",
       "        vertical-align: top;\n",
       "    }\n",
       "\n",
       "    .dataframe thead th {\n",
       "        text-align: right;\n",
       "    }\n",
       "</style>\n",
       "<table border=\"1\" class=\"dataframe\">\n",
       "  <thead>\n",
       "    <tr style=\"text-align: right;\">\n",
       "      <th></th>\n",
       "      <th>age</th>\n",
       "      <th>workclass</th>\n",
       "      <th>education</th>\n",
       "      <th>race</th>\n",
       "      <th>sex</th>\n",
       "    </tr>\n",
       "  </thead>\n",
       "  <tbody>\n",
       "    <tr>\n",
       "      <td>0</td>\n",
       "      <td>[35.00, 53.00)</td>\n",
       "      <td>*</td>\n",
       "      <td>Bachelors</td>\n",
       "      <td>White</td>\n",
       "      <td>*</td>\n",
       "    </tr>\n",
       "    <tr>\n",
       "      <td>1</td>\n",
       "      <td>[35.00, 53.00)</td>\n",
       "      <td>*</td>\n",
       "      <td>Bachelors</td>\n",
       "      <td>White</td>\n",
       "      <td>*</td>\n",
       "    </tr>\n",
       "    <tr>\n",
       "      <td>2</td>\n",
       "      <td>[35.00, 53.00)</td>\n",
       "      <td>*</td>\n",
       "      <td>Bachelors</td>\n",
       "      <td>White</td>\n",
       "      <td>*</td>\n",
       "    </tr>\n",
       "    <tr>\n",
       "      <td>3</td>\n",
       "      <td>[53.00, 71.00)</td>\n",
       "      <td>*</td>\n",
       "      <td>Bachelors</td>\n",
       "      <td>Black</td>\n",
       "      <td>*</td>\n",
       "    </tr>\n",
       "    <tr>\n",
       "      <td>4</td>\n",
       "      <td>[17.00, 35.00)</td>\n",
       "      <td>*</td>\n",
       "      <td>Bachelors</td>\n",
       "      <td>Black</td>\n",
       "      <td>*</td>\n",
       "    </tr>\n",
       "    <tr>\n",
       "      <td>...</td>\n",
       "      <td>...</td>\n",
       "      <td>...</td>\n",
       "      <td>...</td>\n",
       "      <td>...</td>\n",
       "      <td>...</td>\n",
       "    </tr>\n",
       "    <tr>\n",
       "      <td>32556</td>\n",
       "      <td>[17.00, 35.00)</td>\n",
       "      <td>*</td>\n",
       "      <td>Bachelors</td>\n",
       "      <td>White</td>\n",
       "      <td>*</td>\n",
       "    </tr>\n",
       "    <tr>\n",
       "      <td>32557</td>\n",
       "      <td>[35.00, 53.00)</td>\n",
       "      <td>*</td>\n",
       "      <td>Bachelors</td>\n",
       "      <td>White</td>\n",
       "      <td>*</td>\n",
       "    </tr>\n",
       "    <tr>\n",
       "      <td>32558</td>\n",
       "      <td>[53.00, 71.00)</td>\n",
       "      <td>*</td>\n",
       "      <td>Bachelors</td>\n",
       "      <td>White</td>\n",
       "      <td>*</td>\n",
       "    </tr>\n",
       "    <tr>\n",
       "      <td>32559</td>\n",
       "      <td>[17.00, 35.00)</td>\n",
       "      <td>*</td>\n",
       "      <td>Bachelors</td>\n",
       "      <td>White</td>\n",
       "      <td>*</td>\n",
       "    </tr>\n",
       "    <tr>\n",
       "      <td>32560</td>\n",
       "      <td>[35.00, 53.00)</td>\n",
       "      <td>*</td>\n",
       "      <td>Bachelors</td>\n",
       "      <td>White</td>\n",
       "      <td>*</td>\n",
       "    </tr>\n",
       "  </tbody>\n",
       "</table>\n",
       "<p>32561 rows × 5 columns</p>\n",
       "</div>"
      ],
      "text/plain": [
       "                  age workclass   education    race sex\n",
       "0      [35.00, 53.00)         *   Bachelors   White   *\n",
       "1      [35.00, 53.00)         *   Bachelors   White   *\n",
       "2      [35.00, 53.00)         *   Bachelors   White   *\n",
       "3      [53.00, 71.00)         *   Bachelors   Black   *\n",
       "4      [17.00, 35.00)         *   Bachelors   Black   *\n",
       "...               ...       ...         ...     ...  ..\n",
       "32556  [17.00, 35.00)         *   Bachelors   White   *\n",
       "32557  [35.00, 53.00)         *   Bachelors   White   *\n",
       "32558  [53.00, 71.00)         *   Bachelors   White   *\n",
       "32559  [17.00, 35.00)         *   Bachelors   White   *\n",
       "32560  [35.00, 53.00)         *   Bachelors   White   *\n",
       "\n",
       "[32561 rows x 5 columns]"
      ]
     },
     "execution_count": 13,
     "metadata": {},
     "output_type": "execute_result"
    }
   ],
   "source": [
    "genDF2 = D2.generalizeDataset((1,1,1,0,1))\n",
    "genDF2"
   ]
  }
 ],
 "metadata": {
  "kernelspec": {
   "display_name": "Python 3",
   "language": "python",
   "name": "python3"
  },
  "language_info": {
   "codemirror_mode": {
    "name": "ipython",
    "version": 3
   },
   "file_extension": ".py",
   "mimetype": "text/x-python",
   "name": "python",
   "nbconvert_exporter": "python",
   "pygments_lexer": "ipython3",
   "version": "3.6.8"
  }
 },
 "nbformat": 4,
 "nbformat_minor": 2
}
